{
  "nbformat": 4,
  "nbformat_minor": 0,
  "metadata": {
    "colab": {
      "provenance": [],
      "authorship_tag": "ABX9TyOBNYA81XKwOi6B6I/rFKFO",
      "include_colab_link": true
    },
    "kernelspec": {
      "name": "python3",
      "display_name": "Python 3"
    },
    "language_info": {
      "name": "python"
    }
  },
  "cells": [
    {
      "cell_type": "markdown",
      "metadata": {
        "id": "view-in-github",
        "colab_type": "text"
      },
      "source": [
        "<a href=\"https://colab.research.google.com/github/jhonKifle/Neural-Network/blob/main/NN.ipynb\" target=\"_parent\"><img src=\"https://colab.research.google.com/assets/colab-badge.svg\" alt=\"Open In Colab\"/></a>"
      ]
    },
    {
      "cell_type": "code",
      "source": [
        "import numpy as np\n",
        "import pandas as pd\n",
        "import random\n",
        "\n",
        "train = pd.read_csv('/content/sample_data/mnist_train_small.csv')\n",
        "test = pd.read_csv('/content/sample_data/mnist_test.csv')\n",
        "train = train._append(train.head(1))\n",
        "test = test._append(test.head(1))\n",
        "print(test.shape)\n",
        "print(train.shape)"
      ],
      "metadata": {
        "colab": {
          "base_uri": "https://localhost:8080/"
        },
        "id": "F9PDY9TboiOu",
        "outputId": "80e549bf-010f-40a7-de09-11945fb72594"
      },
      "execution_count": 1,
      "outputs": [
        {
          "output_type": "stream",
          "name": "stdout",
          "text": [
            "(10000, 785)\n",
            "(20000, 785)\n"
          ]
        }
      ]
    },
    {
      "cell_type": "markdown",
      "source": [
        "As you can see in above output, the dataset contain 784 bits (28X28) to represent a digits, and one label column to indicate the digit value. So, here we have to split the train set to (train , validation) with (80% , 20%) content of the train set."
      ],
      "metadata": {
        "id": "37Redo_2JMfv"
      }
    },
    {
      "cell_type": "code",
      "source": [
        "valid = train.sample(frac=0.2)\n",
        "train = train.drop(valid.index)\n",
        "print(train.shape)\n",
        "print(valid.shape)"
      ],
      "metadata": {
        "colab": {
          "base_uri": "https://localhost:8080/"
        },
        "id": "QY0Xlnn9JKvI",
        "outputId": "d4b0161f-34d1-45c1-8677-6cc62574daac"
      },
      "execution_count": 2,
      "outputs": [
        {
          "output_type": "stream",
          "name": "stdout",
          "text": [
            "(16000, 785)\n",
            "(4000, 785)\n"
          ]
        }
      ]
    },
    {
      "cell_type": "code",
      "source": [
        "print(train.head(3))"
      ],
      "metadata": {
        "colab": {
          "base_uri": "https://localhost:8080/"
        },
        "id": "9iLFEwoCgiu_",
        "outputId": "f8ae0930-535d-4001-c8e3-b30151565495"
      },
      "execution_count": 3,
      "outputs": [
        {
          "output_type": "stream",
          "name": "stdout",
          "text": [
            "   6  0  0.1  0.2  0.3  0.4  0.5  0.6  0.7  0.8  ...  0.581  0.582  0.583  \\\n",
            "0  5  0    0    0    0    0    0    0    0    0  ...      0      0      0   \n",
            "2  9  0    0    0    0    0    0    0    0    0  ...      0      0      0   \n",
            "3  5  0    0    0    0    0    0    0    0    0  ...      0      0      0   \n",
            "\n",
            "   0.584  0.585  0.586  0.587  0.588  0.589  0.590  \n",
            "0      0      0      0      0      0      0      0  \n",
            "2      0      0      0      0      0      0      0  \n",
            "3      0      0      0      0      0      0      0  \n",
            "\n",
            "[3 rows x 785 columns]\n"
          ]
        }
      ]
    },
    {
      "cell_type": "markdown",
      "source": [
        "Note that the first column is a digit of 0-9, and the rest of 784 bits represent 28 X 28 MNIST image.\n"
      ],
      "metadata": {
        "id": "F6kdcTPlhBQx"
      }
    },
    {
      "cell_type": "markdown",
      "source": [
        "See the output of one-hot encoding of the digit 5 is [0,0,0,0,0,1,0,0,0,0], and for 0 it is [1,0,0,0,0,0,0,0,0,0], similarly for the other digits they will contain '1' in their index positions."
      ],
      "metadata": {
        "id": "314bcEkdmYKi"
      }
    },
    {
      "cell_type": "code",
      "source": [
        "train_X = train.iloc[:,1:]\n",
        "train_y = train.iloc[:,0]"
      ],
      "metadata": {
        "id": "tWxZFA3mHTJT"
      },
      "execution_count": 4,
      "outputs": []
    },
    {
      "cell_type": "code",
      "source": [
        "import matplotlib.pyplot as plt\n",
        "plt.imshow(train_X.iloc[3].values.reshape(28,28))\n",
        "plt.title(\"digit - \"+str(train_y.iloc[3]))"
      ],
      "metadata": {
        "id": "U7pqOBsLnSJd",
        "colab": {
          "base_uri": "https://localhost:8080/",
          "height": 469
        },
        "outputId": "ed3c0d7b-ae42-4b27-8355-b0e449eb8134"
      },
      "execution_count": 5,
      "outputs": [
        {
          "output_type": "execute_result",
          "data": {
            "text/plain": [
              "Text(0.5, 1.0, 'digit - 2')"
            ]
          },
          "metadata": {},
          "execution_count": 5
        },
        {
          "output_type": "display_data",
          "data": {
            "text/plain": [
              "<Figure size 640x480 with 1 Axes>"
            ],
            "image/png": "[encoded data removed]"
          },
          "metadata": {}
        }
      ]
    },
    {
      "cell_type": "code",
      "source": [
        "train_X = train_X/255\n",
        "train_X = [np.reshape(x, (784, 1)) for x in train_X.values]\n",
        "valid_X = valid.iloc[:,1:]\n",
        "valid_X = valid_X/255\n",
        "valid_X = [np.reshape(x, (784, 1)) for x in valid_X.values]\n",
        "valid_y = valid.iloc[:,0]\n",
        "test_X = test.iloc[:,1:]\n",
        "test_X = test_X/255\n",
        "test_y = test.iloc[:,0]"
      ],
      "metadata": {
        "id": "pu16FUdphR7e"
      },
      "execution_count": 6,
      "outputs": []
    },
    {
      "cell_type": "markdown",
      "source": [
        "To be able to identify which digit, the output shall be defined in some form.\n",
        "1. We can have 4 bits to represent the binary value of 0-9\n",
        "2. Or more effiect we can use one-hot encode. For this demo we will use one-hot encode of the output label."
      ],
      "metadata": {
        "id": "QB-JCAbEiQ_w"
      }
    },
    {
      "cell_type": "code",
      "source": [
        "train_y = train.iloc[:,0]\n",
        "def one_hot(y):\n",
        "    one_hot_y = [np.zeros((10,1)) for a in y]\n",
        "    for i,e in zip(y,one_hot_y):\n",
        "      e[i] = 1\n",
        "    return one_hot_y\n",
        "train_y = train_y.to_numpy()\n",
        "train_y = one_hot(train_y)\n",
        "valid_y = valid_y.to_numpy()\n",
        "test_y = one_hot(test_y)"
      ],
      "metadata": {
        "id": "mfgJpQn4lSO0"
      },
      "execution_count": 7,
      "outputs": []
    },
    {
      "cell_type": "markdown",
      "source": [
        "The above image is a 28 X 28 pixel image of a digit from the MNIST dataset. and as it is displayed its label is 5."
      ],
      "metadata": {
        "id": "OuH0mKmcrwe_"
      }
    },
    {
      "cell_type": "markdown",
      "source": [
        "Now let us define our network:\n",
        "- 784 input neurons at the input layer\n",
        "- 30 neurons at the hidden layer ( depends on user choice)\n",
        "- 10 output neurons at the output layer"
      ],
      "metadata": {
        "id": "Lff9-OX_sjBD"
      }
    },
    {
      "cell_type": "code",
      "source": [
        "\n",
        "class NN:\n",
        "  def __init__(self, layers):\n",
        "    self.layers = layers\n",
        "    self.weights = []\n",
        "    self.biases = []\n",
        "    for i in range(len(layers)-1):\n",
        "      self.weights.append(np.random.randn(layers[i+1], layers[i]))\n",
        "      self.biases.append(np.random.randn(layers[i+1], 1))\n",
        "  def forward(self, X):\n",
        "    self.inputs = X\n",
        "    for i in range(len(self.layers)-1):\n",
        "      self.inputs = np.dot(self.weights[i], self.inputs) + self.biases[i]\n",
        "      self.inputs = self.sigmoid(self.inputs)\n",
        "    return self.inputs\n",
        "  def sigmoid(self, x):\n",
        "    return 1/(1+np.exp(-x))\n",
        "  def sigmoid_derivative(self, x):\n",
        "    return self.sigmoid(x)*(1-self.sigmoid(x))\n",
        "  def SGD(self, X, y, epochs, batch_size, learning_rate, test_data=None):\n",
        "    for i in range(epochs):\n",
        "      for j in range(0, len(X), batch_size):\n",
        "        X_batch = X[j:j+batch_size]\n",
        "        y_batch = y[j:j+batch_size]\n",
        "        self.update_mini_batch(X_batch, y_batch, learning_rate)\n",
        "      if test_data:\n",
        "        err = self.evaluate(test_data)\n",
        "        print(\"Epoch {} : {} / {} ({}%)\".format(i,err,len(test_data[0]),100*err/len(test_data[0])))\n",
        "      else:\n",
        "        print(\"Epoch {} complete\".format(i))\n",
        "  def update_mini_batch(self, X, Y, learning_rate):\n",
        "    nabla_b = [np.zeros(b.shape) for b in self.biases]\n",
        "    nabla_w = [np.zeros(w.shape) for w in self.weights]\n",
        "    for x, y in zip(X, Y):\n",
        "      delta_nabla_b, delta_nabla_w = self.backprop(x, y)\n",
        "      nabla_b = [nb+dnb for nb, dnb in zip(nabla_b, delta_nabla_b)]\n",
        "      nabla_w = [nw+dnw for nw, dnw in zip(nabla_w, delta_nabla_w)]\n",
        "    self.weights = [w-(learning_rate/len(X))*nw for w, nw in zip(self.weights, nabla_w)]\n",
        "    self.biases = [b-(learning_rate/len(X))*nb for b, nb in zip(self.biases, nabla_b)]\n",
        "  def backprop(self, x, y):\n",
        "\n",
        "    #forward pass: generate weighted sums and sigmoid outputs of each layer\n",
        "    nabla_b = [np.zeros(b.shape) for b in self.biases]\n",
        "    nabla_w = [np.zeros(w.shape) for w in self.weights]\n",
        "    activation = x\n",
        "    activations = [x]\n",
        "    zs = []\n",
        "    for b, w in zip(self.biases, self.weights):\n",
        "      z = np.dot(w, activation)+b\n",
        "      zs.append(z)\n",
        "      activation = self.sigmoid(z)\n",
        "      activations.append(activation)\n",
        "\n",
        "    #backward propagation\n",
        "    delta = self.cost(y, activations[-1]) * self.sigmoid_derivative(zs[-1])\n",
        "    nabla_b[-1] = delta\n",
        "    nabla_w[-1] = np.dot(delta, activations[-2].transpose())\n",
        "    for l in range(2, len(self.layers)):\n",
        "      z = zs[-l]\n",
        "      sp = self.sigmoid_derivative(z)\n",
        "      delta = np.dot(self.weights[-l+1].transpose(), delta) * sp\n",
        "      nabla_b[-l] = delta\n",
        "      nabla_w[-l] = np.dot(delta, activations[-l-1].transpose())\n",
        "    return (nabla_b, nabla_w)\n",
        "  def evaluate(self, test_data):\n",
        "    test_results = [(np.argmax(self.forward(x)), y) for (x, y) in zip(test_data[0], test_data[1])]\n",
        "    return sum(int(x == y) for (x, y) in test_results)\n",
        "  def cost(self, y, output):\n",
        "    return output - y\n",
        "net = NN([784,30,10])\n",
        "\n",
        "net.SGD(train_X, train_y, 30, 10, 3.0, test_data=(valid_X,valid_y))\n"
      ],
      "metadata": {
        "colab": {
          "base_uri": "https://localhost:8080/"
        },
        "id": "Gblfbu-CehTu",
        "outputId": "43358691-ab65-41a5-feba-23c1bebb1939"
      },
      "execution_count": 8,
      "outputs": [
        {
          "output_type": "stream",
          "name": "stdout",
          "text": [
            "Epoch 0 : 3136 / 4000 (78.4%)\n",
            "Epoch 1 : 3232 / 4000 (80.8%)\n",
            "Epoch 2 : 3544 / 4000 (88.6%)\n",
            "Epoch 3 : 3578 / 4000 (89.45%)\n",
            "Epoch 4 : 3599 / 4000 (89.975%)\n",
            "Epoch 5 : 3630 / 4000 (90.75%)\n",
            "Epoch 6 : 3651 / 4000 (91.275%)\n",
            "Epoch 7 : 3646 / 4000 (91.15%)\n",
            "Epoch 8 : 3650 / 4000 (91.25%)\n",
            "Epoch 9 : 3652 / 4000 (91.3%)\n",
            "Epoch 10 : 3664 / 4000 (91.6%)\n",
            "Epoch 11 : 3668 / 4000 (91.7%)\n",
            "Epoch 12 : 3673 / 4000 (91.825%)\n",
            "Epoch 13 : 3677 / 4000 (91.925%)\n",
            "Epoch 14 : 3683 / 4000 (92.075%)\n",
            "Epoch 15 : 3679 / 4000 (91.975%)\n",
            "Epoch 16 : 3678 / 4000 (91.95%)\n",
            "Epoch 17 : 3672 / 4000 (91.8%)\n",
            "Epoch 18 : 3670 / 4000 (91.75%)\n",
            "Epoch 19 : 3668 / 4000 (91.7%)\n",
            "Epoch 20 : 3680 / 4000 (92.0%)\n",
            "Epoch 21 : 3682 / 4000 (92.05%)\n",
            "Epoch 22 : 3679 / 4000 (91.975%)\n",
            "Epoch 23 : 3687 / 4000 (92.175%)\n",
            "Epoch 24 : 3680 / 4000 (92.0%)\n",
            "Epoch 25 : 3682 / 4000 (92.05%)\n",
            "Epoch 26 : 3684 / 4000 (92.1%)\n",
            "Epoch 27 : 3684 / 4000 (92.1%)\n",
            "Epoch 28 : 3681 / 4000 (92.025%)\n",
            "Epoch 29 : 3686 / 4000 (92.15%)\n"
          ]
        }
      ]
    },
    {
      "cell_type": "markdown",
      "source": [
        "30 Epochs bring a 92% accuracy in new data. This accuracy can be increased by setting randomness of entries in mini_batch. i.e. The mini batchs created were of the same content in every epoch. This can be further enhanced by shuffling the entire data set in every epoch, and creat a new and unique mini-batch contents. To help shuffle, you much join the (X,y) as a list and do the shuffling as follows:\n",
        "\n",
        " - random.shuffle(training_data)\n"
      ],
      "metadata": {
        "id": "4qcUaT6uFVao"
      }
    }
  ]
}